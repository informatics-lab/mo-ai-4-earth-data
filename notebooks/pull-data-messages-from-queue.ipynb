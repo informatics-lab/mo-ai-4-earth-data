{
 "cells": [
  {
   "cell_type": "code",
   "execution_count": 1,
   "metadata": {},
   "outputs": [],
   "source": [
    "import os\n",
    "import json\n",
    "from azure.servicebus import ServiceBusClient, QueueClient, Message\n",
    "import pprint\n",
    "pp = pprint.PrettyPrinter()"
   ]
  },
  {
   "cell_type": "code",
   "execution_count": 2,
   "metadata": {},
   "outputs": [],
   "source": [
    "conn_str = ! cd ../__app__ &&  func settings list --showValue | grep -A1 ServiceBusConnection | grep \"Value:\"\n",
    "conn_str = conn_str[0].split(\"Value:\",1)[1].strip()"
   ]
  },
  {
   "cell_type": "code",
   "execution_count": 3,
   "metadata": {},
   "outputs": [
    {
     "data": {
      "text/plain": [
       "'mo-data-sns-in'"
      ]
     },
     "execution_count": 3,
     "metadata": {},
     "output_type": "execute_result"
    }
   ],
   "source": [
    "queue_name = !cd ../__app__ &&  func settings list --showValue | grep -A1 DATA_QUEUE_NAME | grep \"Value:\"\n",
    "queue_name = queue_name[0].split('Value:')[1].strip()\n",
    "queue_name\n",
    "\n"
   ]
  },
  {
   "cell_type": "code",
   "execution_count": 4,
   "metadata": {},
   "outputs": [],
   "source": [
    "consume_message=False"
   ]
  },
  {
   "cell_type": "code",
   "execution_count": null,
   "metadata": {},
   "outputs": [],
   "source": [
    "# Create the QueueClient\n",
    "queue_client = QueueClient.from_connection_string(conn_str, queue_name)\n",
    "\n",
    "# Receive the message from the queue\n",
    "max_messages = 5\n",
    "message_count = 0\n",
    "with queue_client.get_receiver() as queue_receiver:\n",
    "    messages = queue_receiver.fetch_next(timeout=3)\n",
    "    for message in messages:\n",
    "            \n",
    "        pp.pprint(json.loads(b''.join(message.body)))\n",
    "        \n",
    "        if consume_message:\n",
    "            message.complete()\n",
    "            \n",
    "        message_count +=1\n",
    "        if message_count >= max_messages:\n",
    "            break"
   ]
  },
  {
   "cell_type": "code",
   "execution_count": 35,
   "metadata": {},
   "outputs": [],
   "source": [
    "m = json.loads(b''.join(message.body))"
   ]
  },
  {
   "cell_type": "code",
   "execution_count": null,
   "metadata": {},
   "outputs": [],
   "source": [
    "m"
   ]
  }
 ],
 "metadata": {
  "kernelspec": {
   "display_name": "Python 3",
   "language": "python",
   "name": "python3"
  },
  "language_info": {
   "codemirror_mode": {
    "name": "ipython",
    "version": 3
   },
   "file_extension": ".py",
   "mimetype": "text/x-python",
   "name": "python",
   "nbconvert_exporter": "python",
   "pygments_lexer": "ipython3",
   "version": "3.6.8"
  }
 },
 "nbformat": 4,
 "nbformat_minor": 4
}
