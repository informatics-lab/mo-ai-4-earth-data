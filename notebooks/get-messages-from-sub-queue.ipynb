{
 "cells": [
  {
   "cell_type": "code",
   "execution_count": 13,
   "metadata": {},
   "outputs": [],
   "source": [
    "import os\n",
    "import json\n",
    "from azure.servicebus import ServiceBusClient, QueueClient, Message"
   ]
  },
  {
   "cell_type": "code",
   "execution_count": 14,
   "metadata": {},
   "outputs": [],
   "source": [
    "conn_str = ! cd ../__app__ && func settings list --showValue | grep -A1 ServiceBusConnection | grep \"Value:\"\n",
    "conn_str = conn_str[0].split(\"Value:\",1)[1].strip()"
   ]
  },
  {
   "cell_type": "code",
   "execution_count": 15,
   "metadata": {},
   "outputs": [
    {
     "data": {
      "text/plain": [
       "'sns-sub'"
      ]
     },
     "execution_count": 15,
     "metadata": {},
     "output_type": "execute_result"
    }
   ],
   "source": [
    "queue_name = ! cd ../__app__ &&  func settings list --showValue | grep -A1 SUBSCRIBE_QUEUE_NAME | grep \"Value:\"\n",
    "queue_name = queue_name[0].split('Value:')[1].strip()\n",
    "queue_name"
   ]
  },
  {
   "cell_type": "code",
   "execution_count": 16,
   "metadata": {},
   "outputs": [],
   "source": [
    "consume_message=True"
   ]
  },
  {
   "cell_type": "code",
   "execution_count": 17,
   "metadata": {},
   "outputs": [],
   "source": [
    "from IPython.display import HTML\n",
    "\n",
    "def show_subscribe(message):\n",
    "    b=b\"\"\n",
    "    for msg_b in message.body:\n",
    "        b += msg_b\n",
    "    msg = json.loads(b)\n",
    "    display(HTML(f'Subscribe:  <a href=\"{msg[\"SubscribeURL\"]}\">{msg[\"TopicArn\"]}</a> ({msg[\"Timestamp\"]})'))"
   ]
  },
  {
   "cell_type": "code",
   "execution_count": null,
   "metadata": {},
   "outputs": [],
   "source": [
    "# Create the QueueClient\n",
    "queue_client = QueueClient.from_connection_string(conn_str, queue_name)\n",
    "\n",
    "# Receive the message from the queue\n",
    "with queue_client.get_receiver(prefetch=10) as queue_receiver:\n",
    "    messages = queue_receiver.fetch_next(timeout=3)\n",
    "    for message in messages:\n",
    "        if consume_message:\n",
    "            message.complete()\n",
    "            \n",
    "        try:\n",
    "            show_subscribe(message)\n",
    "        except Exception as e:\n",
    "            print(\"Error\", e)\n",
    "            print(message)\n",
    "            pass\n",
    "            "
   ]
  },
  {
   "cell_type": "code",
   "execution_count": null,
   "metadata": {},
   "outputs": [],
   "source": [
    "# Create the QueueClient\n",
    "queue_client = QueueClient.from_connection_string(conn_str, queue_name)\n",
    "\n",
    "# Receive the message from the queue\n",
    "with queue_client.get_receiver(prefetch=10) as queue_receiver:\n",
    "    messages = queue_receiver.fetch_next(timeout=3)\n",
    "    for message in messages:\n",
    "            \n",
    "        try:\n",
    "            show_subscribe(message)\n",
    "            if consume_message:\n",
    "                message.complete()\n",
    "        except Exception as e:\n",
    "            print(\"Error\", e)\n",
    "            print(message)\n",
    "            pass"
   ]
  },
  {
   "cell_type": "code",
   "execution_count": null,
   "metadata": {},
   "outputs": [],
   "source": []
  }
 ],
 "metadata": {
  "kernelspec": {
   "display_name": "Python 3",
   "language": "python",
   "name": "python3"
  },
  "language_info": {
   "codemirror_mode": {
    "name": "ipython",
    "version": 3
   },
   "file_extension": ".py",
   "mimetype": "text/x-python",
   "name": "python",
   "nbconvert_exporter": "python",
   "pygments_lexer": "ipython3",
   "version": "3.6.8"
  }
 },
 "nbformat": 4,
 "nbformat_minor": 4
}
